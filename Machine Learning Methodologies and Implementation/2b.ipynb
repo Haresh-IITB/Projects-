{
 "cells": [
  {
   "cell_type": "code",
   "execution_count": 17,
   "metadata": {},
   "outputs": [],
   "source": [
    "import numpy as np \n",
    "import pandas as pd\n",
    "import matplotlib.pyplot as plt"
   ]
  },
  {
   "cell_type": "markdown",
   "metadata": {},
   "source": [
    "In this part I am going to use GPT to forecast the time series data  \n",
    "\n",
    "The key idea is that the GPTs are pretrained, and does incontext processing so providing them with adequate prompts youl enable them to predict the data \n"
   ]
  },
  {
   "cell_type": "code",
   "execution_count": 19,
   "metadata": {},
   "outputs": [],
   "source": [
    "data = pd.read_csv('AirtrafficA4.csv')\n",
    "# Map month names to numbers and combine Year and Month into a datetime index\n",
    "month_mapping = {\n",
    "    'JAN': 1, 'FEB': 2, 'MAR': 3, 'APR': 4,\n",
    "    'MAY': 5, 'JUNE': 6, 'JULY': 7, 'AUG': 8,\n",
    "    'SEP': 9, 'OCT': 10, 'NOV': 11, 'DEC': 12\n",
    "}\n",
    "data['MONTH'] = data['MONTH'].str.strip().map(month_mapping)\n",
    "\n",
    "# Create a proper datetime column using the first day of each month\n",
    "data['DATE'] = pd.to_datetime(data[['YEAR', 'MONTH']].assign(DAY=1))\n",
    "\n",
    "# Convert dates to string in 'MM-YYYY' format for x-axis labels\n",
    "data['DATE_STR'] = data['DATE'].dt.strftime('%m-%Y')\n",
    "# Set the DATE as index for the DataFrame\n",
    "data.set_index('DATE', inplace=True)\n",
    "# Keep only the 'PASSENGERS CARRIED' column\n",
    "data = data[['PASSENGERS CARRIED']]\n",
    "data['PASSENGERS CARRIED'].ffill()\n",
    "# Ensure the DataFrame is sorted by the DATE index\n",
    "data.sort_index(inplace=True)"
   ]
  },
  {
   "cell_type": "code",
   "execution_count": 26,
   "metadata": {},
   "outputs": [
    {
     "name": "stdout",
     "output_type": "stream",
     "text": [
      "Based on the following monthly time series data of passenger counts, please predict the values for the next 12 months. Use trends, seasonal variations, and any significant patterns visible in the data to guide the forecast.The data from MARCH 2020 - February 2022 , has an unexpected dip duw to covid 19 , But in the present time situation has normalised and the WEAK upward trend of the number of passenegers has started again , so use this information to make the prediction, the trend is still not so strong\n",
      " The number of passengers in each from year 2013 onwards are as follows :  \n",
      "\n",
      " Time series data : \n",
      "\n",
      "Dates : 2013-01-01, 2013-02-01, 2013-03-01, 2013-04-01, 2013-05-01, 2013-06-01, 2013-07-01, 2013-08-01, 2013-09-01, 2013-10-01, 2013-11-01, 2013-12-01, 2014-01-01, 2014-02-01, 2014-03-01, 2014-04-01, 2014-05-01, 2014-06-01, 2014-07-01, 2014-08-01, 2014-09-01, 2014-10-01, 2014-11-01, 2014-12-01, 2015-01-01, 2015-02-01, 2015-03-01, 2015-04-01, 2015-05-01, 2015-06-01, 2015-07-01, 2015-08-01, 2015-09-01, 2015-10-01, 2015-11-01, 2015-12-01, 2016-01-01, 2016-02-01, 2016-03-01, 2016-04-01, 2016-05-01, 2016-06-01, 2016-07-01, 2016-08-01, 2016-09-01, 2016-10-01, 2016-11-01, 2016-12-01, 2017-01-01, 2017-02-01, 2017-03-01, 2017-04-01, 2017-05-01, 2017-06-01, 2017-07-01, 2017-08-01, 2017-09-01, 2017-10-01, 2017-11-01, 2017-12-01, 2018-01-01, 2018-02-01, 2018-03-01, 2018-04-01, 2018-05-01, 2018-06-01, 2018-07-01, 2018-08-01, 2018-09-01, 2018-10-01, 2018-11-01, 2018-12-01, 2019-01-01, 2019-02-01, 2019-03-01, 2019-04-01, 2019-05-01, 2019-06-01, 2019-07-01, 2019-08-01, 2019-09-01, 2019-10-01, 2019-11-01, 2019-12-01, 2020-01-01, 2020-02-01, 2020-03-01, 2020-04-01, 2020-05-01, 2020-06-01, 2020-07-01, 2020-08-01, 2020-09-01, 2020-10-01, 2020-11-01, 2020-12-01, 2021-01-01, 2021-02-01, 2021-03-01, 2021-04-01, 2021-05-01, 2021-06-01, 2021-07-01, 2021-08-01, 2021-09-01, 2021-10-01, 2021-11-01, 2021-12-01, 2022-01-01, 2022-02-01, 2022-03-01, 2022-04-01, 2022-05-01, 2022-06-01, 2022-07-01, 2022-08-01, 2022-09-01, 2022-10-01, 2022-11-01, 2022-12-01, 2023-01-01, 2023-02-01, 2023-03-01, 2023-04-01, 2023-05-01, 2023-06-01, 2023-07-01, 2023-08-01\n",
      "PASSENGERS CARRIED :, 14,08,012, 13,41,210, 14,23,569, 15,11,094, 16,85,168, 14,80,879, 14,45,248, 15,31,406, 13,78,691, 15,10,184, 14,67,763, 15,75,872, 14,26,580, 14,64,070, 16,01,141, 16,79,963, 19,08,334, 17,97,101, 15,99,977, 18,58,664, 19,07,378, 18,90,273, 19,67,992, 23,24,221, 22,76,404, 22,30,645, 22,86,128, 24,81,285, 27,69,283, 25,36,554, 24,16,916, 23,84,943, 24,30,449, 25,89,861, 25,97,765, 27,43,325, 27,25,711, 27,54,131, 30,23,228, 30,66,556, 33,36,839, 30,23,081, 33,83,768, 33,41,081, 32,95,826, 36,92,828, 37,72,583, 38,48,322, 38,09,228, 34,18,605, 36,11,371, 37,78,780, 41,90,914, 38,25,814, 36,99,451, 36,78,245, 36,64,509, 41,33,027, 41,31,844, 44,30,070, 45,56,904, 42,90,189, 45,76,236, 45,79,916, 48,52,909, 46,72,686, 50,02,416, 47,57,378, 49,20,335, 50,74,853, 50,05,919, 54,78,523, 53,21,832, 49,30,608, 54,40,796, 54,81,088, 59,79,551, 57,78,376, 56,93,448, 55,40,693, 55,59,031, 58,42,318, 61,51,347, 61,88,457, 61,19,924, 59,31,189, 37,93,464, nan, 1,42,254, 10,46,836, 12,72,240, 16,81,787, 22,65,539, 29,26,835, 34,23,059, 39,51,522, 42,02,712, 42,38,466, 41,84,920, 30,83,318, 11,68,738, 17,01,955, 29,32,469, 38,16,286, 39,58,375, 48,07,415, 57,06,021, 61,40,654, 35,56,558, 39,50,597, 57,83,838, 59,57,411, 63,76,429, 59,82,787, 57,11,288, 58,32,025, 59,72,449, 64,71,441, 65,00,903, 69,97,472, 68,47,384, 67,41,948, 73,17,288, 74,06,440, 81,09,626, 78,93,296, 76,74,890, 78,67,259\n",
      "\n",
      "Forecast the number of passengers for the next 12 months starting from 2023-09-01 00:00:00 \n",
      "\n",
      " the output should contain 2 columns \"YEAR_MONTH,PASSENGERS CARRIED\" , and then the month in caps and abbreviated form(like SEP , NOV etc.) , so form is like(2023 SEP) , and the number of passengers carried in that month respectively, \n",
      "PLEASE don't tell the methods I can use , rather just PREDICT using zero shot forecasting\n",
      " Also the predicted number of passengers should not have a comma between them\n",
      "And between the values of the YEAR_MONTH column and PASSENGERS CARRIED a comma should be present\n"
     ]
    }
   ],
   "source": [
    "# Converts number to space seperates string for better output \n",
    "# data['PASSENGERS CARRIED'] = data['PASSENGERS CARRIED'].str.replace(',', '')\n",
    "# data[\"PASSENGERS CARRIED\"] = data[\"PASSENGERS CARRIED\"].astype(str).apply(lambda x: \" \".join(x) if x.isdigit() else x)\n",
    "\n",
    "last_month = data.index[-1]\n",
    "\n",
    "prompt = 'Based on the following monthly time series data of passenger counts, please predict the values for the next 12 months. Use trends, seasonal variations, and any significant patterns visible in the data to guide the forecast.The data from MARCH 2020 - February 2022 , has an unexpected dip duw to covid 19 , But in the present time situation has normalised and the WEAK upward trend of the number of passenegers has started again , so use this information to make the prediction, the trend is still not so strong\\n The number of passengers in each from year 2013 onwards are as follows :  \\n\\n Time series data : \\n\\n'\n",
    "\n",
    "prompt += f'Dates : {\", \".join(data.index.astype(str))}\\n'\n",
    "prompt += f'PASSENGERS CARRIED :'\n",
    "for i in data.index:\n",
    "    prompt += f', {data.loc[i].values[0]}'  \n",
    "\n",
    "prompt += f'\\n\\nForecast the number of passengers for the next 12 months starting from {last_month+pd.DateOffset(months=1)} \\n\\n the output should contain 2 columns \"YEAR_MONTH,PASSENGERS CARRIED\" , and then the month in caps and abbreviated form(like SEP , NOV etc.) , so form is like(2023 SEP) , and the number of passengers carried in that month respectively, \\nPLEASE don\\'t tell the methods I can use , rather just PREDICT using zero shot forecasting\\n Also the predicted number of passengers should not have a comma between them\\nAnd between the values of the YEAR_MONTH column and PASSENGERS CARRIED a comma should be present'\n",
    "\n",
    "print(prompt)\n"
   ]
  },
  {
   "cell_type": "code",
   "execution_count": null,
   "metadata": {},
   "outputs": [],
   "source": []
  }
 ],
 "metadata": {
  "kernelspec": {
   "display_name": "Python 3",
   "language": "python",
   "name": "python3"
  },
  "language_info": {
   "codemirror_mode": {
    "name": "ipython",
    "version": 3
   },
   "file_extension": ".py",
   "mimetype": "text/x-python",
   "name": "python",
   "nbconvert_exporter": "python",
   "pygments_lexer": "ipython3",
   "version": "3.12.1"
  }
 },
 "nbformat": 4,
 "nbformat_minor": 2
}
